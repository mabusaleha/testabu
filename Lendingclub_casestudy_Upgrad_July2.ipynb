{
 "cells": [
  {
   "cell_type": "markdown",
   "id": "f3201bb7",
   "metadata": {},
   "source": [
    "# Business Problem : Lending Club Case Study - EDA"
   ]
  },
  {
   "cell_type": "code",
   "execution_count": null,
   "id": "0a97e760",
   "metadata": {},
   "outputs": [],
   "source": [
    "# Importing all Depenedent libraries.\n",
    "import numpy as np\n",
    "import pandas as pd\n",
    "import matplotlib.pyplot as plt\n",
    "import seaborn as sns\n",
    "sns.set(style=\"whitegrid\")"
   ]
  },
  {
   "cell_type": "code",
   "execution_count": null,
   "id": "2b58c938",
   "metadata": {},
   "outputs": [],
   "source": [
    "# As per initial step, we are looking into the provided loan input file to check no.of rows and their data types\n",
    "\n",
    "loan_input = pd.read_csv(\"C:\\Python_Training\\Lendingclubcasestudy\\loan\\loan.csv\",dtype=object)\n",
    "#loan_input = loan_input[loan_input['loan_status'] != 'Current']\n",
    "\n",
    "# Verifying shape & count of non-null values\n",
    "loan_input.shape\n",
    "loan_input.info(verbose=True,show_counts=True)"
   ]
  },
  {
   "cell_type": "code",
   "execution_count": null,
   "id": "f4dae9a8",
   "metadata": {},
   "outputs": [],
   "source": [
    "data_cols = loan_input.describe().columns\n",
    "data_cols"
   ]
  },
  {
   "cell_type": "code",
   "execution_count": null,
   "id": "a1f84088",
   "metadata": {},
   "outputs": [],
   "source": [
    "continuous = [col for col in loan_input.columns if col in data_cols]\n",
    "continuous"
   ]
  },
  {
   "cell_type": "code",
   "execution_count": null,
   "id": "d799ef18",
   "metadata": {},
   "outputs": [],
   "source": [
    "categorical = [col for col in loan_input.columns if col not in data_cols]\n",
    "categorical"
   ]
  },
  {
   "cell_type": "code",
   "execution_count": null,
   "id": "3899b72b",
   "metadata": {},
   "outputs": [],
   "source": [
    "# Data cleansing: \n",
    "# As per above Drop columns where we have mostly null values in given below range criteria and check dimensions of data\n",
    "loan_input.drop(loan_input.iloc[:, 53:78], inplace = True, axis = 1) \n",
    "loan_input.shape\n",
    "loan_input.info(verbose=True,show_counts=True)"
   ]
  },
  {
   "cell_type": "code",
   "execution_count": null,
   "id": "29981f4d",
   "metadata": {},
   "outputs": [],
   "source": [
    "# Data cleansing: \n",
    "# As per above Drop columns where we have mostly null values in given below range criteria and check dimensions of data\n",
    "loan_input.drop(loan_input.iloc[:, 55:80], inplace = True, axis = 1) \n",
    "loan_input.shape\n",
    "loan_input.info(verbose=True,show_counts=True)"
   ]
  },
  {
   "cell_type": "code",
   "execution_count": null,
   "id": "34b4b50e",
   "metadata": {},
   "outputs": [],
   "source": [
    "# Data cleansing: \n",
    "# Dropping extra columns having null values and check input dimensions\n",
    "\n",
    "drop_columns_list1 = [\"mths_since_last_major_derog\",\"tot_hi_cred_lim\",\"total_bal_ex_mort\",\"total_bc_limit\",\"total_il_high_credit_limit\"]\n",
    "loan_input.drop(labels = drop_columns_list1, axis =1, inplace=True)\n",
    "\n",
    "drop_columns_list2 = [\"member_id\",\"url\",\"emp_title\",\"zip_code\",\"tax_liens\"]\n",
    "loan_input.drop(labels = drop_columns_list2, axis =1, inplace=True)\n",
    "\n",
    "\n",
    "loan_input.shape"
   ]
  },
  {
   "cell_type": "code",
   "execution_count": null,
   "id": "b1ac3272",
   "metadata": {},
   "outputs": [],
   "source": [
    "loan_input.info(verbose=True,show_counts=True)"
   ]
  },
  {
   "cell_type": "code",
   "execution_count": null,
   "id": "3abcd4b9",
   "metadata": {},
   "outputs": [],
   "source": [
    "# Data cleansing: \n",
    "# Check for duplicate values if any\n",
    "\n",
    "duplicate_values=loan_input[loan_input.duplicated()]\n",
    "duplicate_values"
   ]
  },
  {
   "cell_type": "code",
   "execution_count": null,
   "id": "c8cdf04a",
   "metadata": {},
   "outputs": [],
   "source": [
    "loan_input['loan_amnt'].describe()\n",
    "\n",
    "#Observation: Numerical data are not yielding expected statistical info - we need to consider their data type conversion."
   ]
  },
  {
   "cell_type": "code",
   "execution_count": null,
   "id": "70add2a0",
   "metadata": {},
   "outputs": [],
   "source": [
    "# Data cleansing: \n",
    "# As part of data type fix, Stripping special character % from intrest rate & revol_util column to be utilized in further analysis.\n",
    "loan_input['int_rate'] = loan_input['int_rate'].str.strip('%')\n",
    "loan_input['revol_util'] = loan_input['revol_util'].str.strip('%')\n",
    "\n",
    "# As part of data type fix, ensuring employment length to have only numerics\n",
    "loan_input.emp_length.fillna('0',inplace=True)\n",
    "loan_input['emp_length']=loan_input.emp_length.str.extract('(\\d+)')\n",
    "\n",
    "# Remove the word 'months' from the column 'term',typecast it to 'int' and save in a new column 'term_in_months'\n",
    "loan_input['term_in_months']=loan_input['term'].apply(lambda x: x.split()[0]).astype('int')"
   ]
  },
  {
   "cell_type": "code",
   "execution_count": null,
   "id": "a8fa1317",
   "metadata": {},
   "outputs": [],
   "source": [
    "loan_input['emp_length'].value_counts(dropna=False)"
   ]
  },
  {
   "cell_type": "code",
   "execution_count": null,
   "id": "e0c6c4d0",
   "metadata": {},
   "outputs": [],
   "source": [
    "# # Data cleansing: \n",
    "# Filling pub_rec_bankruptcies for further analysis.\n",
    "print(\"Before cleaning:\")\n",
    "print(loan_input.pub_rec_bankruptcies.isnull().sum())\n",
    "print(\"After cleaning:\")\n",
    "loan_input.pub_rec_bankruptcies.fillna('Not Known',inplace=True)\n",
    "print(loan_input.pub_rec_bankruptcies.isnull().sum())"
   ]
  },
  {
   "cell_type": "code",
   "execution_count": null,
   "id": "954239aa",
   "metadata": {},
   "outputs": [],
   "source": [
    "data_cols = loan_input.describe().columns\n",
    "data_cols"
   ]
  },
  {
   "cell_type": "code",
   "execution_count": null,
   "id": "97b3926f",
   "metadata": {},
   "outputs": [],
   "source": [
    "# Data cleansing: \n",
    "# As part of fixing Data, handling type conversion for numerical columns to derive more insights\n",
    "\n",
    "cols_tonumeric = ['loan_amnt','funded_amnt','int_rate','funded_amnt_inv','installment','annual_inc','dti','emp_length','total_pymnt','recoveries','term_in_months']\n",
    "loan_input[cols_tonumeric] = loan_input[cols_tonumeric].apply(pd.to_numeric)\n",
    "pd.options.display.float_format = '{:.2f}'.format "
   ]
  },
  {
   "cell_type": "code",
   "execution_count": null,
   "id": "8d155aba",
   "metadata": {},
   "outputs": [],
   "source": [
    "loan_input['loan_amnt'].describe()\n",
    "#Observation: Numerical data are yielding expected statistical info."
   ]
  },
  {
   "cell_type": "code",
   "execution_count": null,
   "id": "1ea9a083",
   "metadata": {},
   "outputs": [],
   "source": [
    "loan_input['annual_inc'].describe()\n",
    "#Observation: Numerical data are yielding expected statistical info."
   ]
  },
  {
   "cell_type": "code",
   "execution_count": null,
   "id": "68084bb3",
   "metadata": {},
   "outputs": [],
   "source": [
    "loan_input['loan_status']"
   ]
  },
  {
   "cell_type": "code",
   "execution_count": null,
   "id": "8a31e73b",
   "metadata": {},
   "outputs": [],
   "source": [
    "loan_input['loan_status'].value_counts()"
   ]
  },
  {
   "cell_type": "code",
   "execution_count": null,
   "id": "077ff957",
   "metadata": {},
   "outputs": [],
   "source": [
    "# Data cleansing: \n",
    "# Exclude current loans for further evaluation consider only \"Fully paid \" and \"Charged off\".\n",
    "\n",
    "loan_input=loan_input[loan_input['loan_status'].isin(['Fully Paid','Charged Off'])]"
   ]
  },
  {
   "cell_type": "code",
   "execution_count": null,
   "id": "f2f63a8c",
   "metadata": {},
   "outputs": [],
   "source": [
    "# Remove the word 'months' from the column 'term',typecast it to 'int' and save in a new column 'term_in_months'\n",
    "loan_input['term_in_months']=loan_input['term'].apply(lambda x: x.split()[0]).astype('int')  #float"
   ]
  },
  {
   "cell_type": "code",
   "execution_count": null,
   "id": "c992f30a",
   "metadata": {},
   "outputs": [],
   "source": [
    "# Delete the 'term' column as it is no more required\n",
    "loan_input = loan_input.drop(['term'], axis=1)"
   ]
  },
  {
   "cell_type": "code",
   "execution_count": null,
   "id": "5e38aa3f",
   "metadata": {},
   "outputs": [],
   "source": []
  },
  {
   "cell_type": "code",
   "execution_count": null,
   "id": "711f9fb2",
   "metadata": {},
   "outputs": [],
   "source": []
  },
  {
   "cell_type": "markdown",
   "id": "56956165",
   "metadata": {},
   "source": [
    "## Derived column analysis for further analysis from existing columns"
   ]
  },
  {
   "cell_type": "code",
   "execution_count": null,
   "id": "9384e451",
   "metadata": {},
   "outputs": [],
   "source": [
    "# Checking for Derived columns from issue_d and creating month and year columns separately for further anaysis\n",
    "\n",
    "loan_input.issue_d = pd.to_datetime(loan_input.issue_d, format='%b-%y')\n",
    "loan_input['year'] = loan_input['issue_d'].dt.year\n",
    "loan_input ['month'] = loan_input['issue_d'].dt.month\n",
    "\n",
    "# Drop further columns and check dimensions of Data frame\n",
    "drop_columns_list3 = [\"issue_d\",\"desc\",\"mths_since_last_delinq\",\"mths_since_last_record\",\"next_pymnt_d\",\"collections_12_mths_ex_med\",\"chargeoff_within_12_mths\"]\n",
    "loan_input.drop(labels = drop_columns_list3, axis =1, inplace=True)\n",
    "\n",
    "\n",
    "loan_input.shape"
   ]
  },
  {
   "cell_type": "code",
   "execution_count": null,
   "id": "9de8a6d5",
   "metadata": {},
   "outputs": [],
   "source": [
    "loan_input['year'].value_counts()"
   ]
  },
  {
   "cell_type": "code",
   "execution_count": null,
   "id": "8716a2ff",
   "metadata": {},
   "outputs": [],
   "source": [
    "# Create a column 'loan_defaulted' which will have value 1 if loan was defaulted else 0 if not defaulted\n",
    "loan_input['loan_defaulted']=loan_input['loan_status'].apply(lambda x: 1 if x=='Charged Off' else 0 )"
   ]
  },
  {
   "cell_type": "code",
   "execution_count": null,
   "id": "d9390b45",
   "metadata": {},
   "outputs": [],
   "source": []
  },
  {
   "cell_type": "markdown",
   "id": "24106d05",
   "metadata": {},
   "source": [
    "## Univariate Analysis process:"
   ]
  },
  {
   "cell_type": "code",
   "execution_count": null,
   "id": "cfc914b0",
   "metadata": {},
   "outputs": [],
   "source": [
    "# Annual_inc: Checking for outliers in annual_inc column - to derive statistical info of data spread \n",
    "# as it's one of the driving eligibility criteria\n",
    "\n",
    "loan_input['annual_inc'].describe()"
   ]
  },
  {
   "cell_type": "code",
   "execution_count": null,
   "id": "3aa240b3",
   "metadata": {},
   "outputs": [],
   "source": [
    "sns.boxplot(loan_input['annual_inc'])\n",
    "plt.title('Annual income Data spread Before removal of outliers')\n",
    "plt.xlabel(\"Borrowers Annual Income\")\n",
    "plt.show()"
   ]
  },
  {
   "cell_type": "code",
   "execution_count": null,
   "id": "be7dfb9a",
   "metadata": {},
   "outputs": [],
   "source": [
    "sns.boxplot(loan_input['annual_inc'])\n",
    "plt.xlabel(\"Borrowers Annual Income\")\n",
    "plt.show()"
   ]
  },
  {
   "cell_type": "code",
   "execution_count": null,
   "id": "4830af23",
   "metadata": {},
   "outputs": [],
   "source": [
    "# Check for existence of data skew - indicates existence of outliers\n",
    "loan_input['annual_inc'].skew()"
   ]
  },
  {
   "cell_type": "code",
   "execution_count": null,
   "id": "9a01736d",
   "metadata": {},
   "outputs": [],
   "source": [
    "percentile25 = loan_input['annual_inc'].quantile(0.1)\n",
    "percentile95 = loan_input['annual_inc'].quantile(0.99)\n",
    "\n",
    "IQR = percentile95-percentile25"
   ]
  },
  {
   "cell_type": "code",
   "execution_count": null,
   "id": "2677bcbc",
   "metadata": {},
   "outputs": [],
   "source": [
    "upper_limit = percentile95 + 1.5 * IQR\n",
    "lower_limit = percentile25 - 1.5 * IQR"
   ]
  },
  {
   "cell_type": "code",
   "execution_count": null,
   "id": "0044f163",
   "metadata": {},
   "outputs": [],
   "source": [
    "#loan_input = loan_input[(loan_input['annual_inc'] < upper_limit) & (loan_input['annual_inc'] > lower_limit)]\n",
    "loan_input = loan_input[loan_input['annual_inc'] <= percentile95]\n",
    "loan_input.shape\n"
   ]
  },
  {
   "cell_type": "code",
   "execution_count": null,
   "id": "d20cdf52",
   "metadata": {},
   "outputs": [],
   "source": [
    "# Check for existence of data skew - after removal of outliers it got improved\n",
    "loan_input['annual_inc'].skew()"
   ]
  },
  {
   "cell_type": "code",
   "execution_count": null,
   "id": "43ec4d66",
   "metadata": {},
   "outputs": [],
   "source": [
    "# Checking annual income details after removal of outliers\n",
    "\n",
    "plt.title('Annual income Data spread After removal of outliers')\n",
    "sns.boxplot(loan_input['annual_inc'])\n",
    "plt.show()"
   ]
  },
  {
   "cell_type": "markdown",
   "id": "80232c6c",
   "metadata": {},
   "source": [
    "### Observations:"
   ]
  },
  {
   "cell_type": "code",
   "execution_count": null,
   "id": "0dbc5915",
   "metadata": {},
   "outputs": [],
   "source": [
    "# Analysis on Borrower's year of employment"
   ]
  },
  {
   "cell_type": "code",
   "execution_count": null,
   "id": "de6b99eb",
   "metadata": {},
   "outputs": [],
   "source": [
    "sns.countplot(x=loan_input[\"emp_length\"], data=loan_input,palette='PuBu')\n",
    "plt.xlabel('Employee Working Experience in Years')\n",
    "plt.show()"
   ]
  },
  {
   "cell_type": "markdown",
   "id": "172bcfb0",
   "metadata": {},
   "source": [
    "### Observations: \n",
    " #### Most of the employees are of 1 years and 10 years of work experience"
   ]
  },
  {
   "cell_type": "code",
   "execution_count": null,
   "id": "04fe95df",
   "metadata": {},
   "outputs": [],
   "source": [
    "# Analysis on Borrower's Home owner ship\n",
    "loan_input.groupby('home_ownership').home_ownership.count()"
   ]
  },
  {
   "cell_type": "code",
   "execution_count": null,
   "id": "b9106a00",
   "metadata": {},
   "outputs": [],
   "source": [
    "sns.countplot(x='home_ownership', data=loan_input,order=loan_input.home_ownership.value_counts().index,palette='BuPu')\n",
    "plt.xlabel('Home Ownership')\n",
    "plt.show()"
   ]
  },
  {
   "cell_type": "markdown",
   "id": "c4b8d6be",
   "metadata": {},
   "source": [
    "### Observations: \n",
    " #### Most of borrowers have houses on Rent and on Mortgage. \n",
    " #### Very few have ownership house"
   ]
  },
  {
   "cell_type": "code",
   "execution_count": null,
   "id": "5a8a2091",
   "metadata": {},
   "outputs": [],
   "source": [
    "# Analysis on Loan status:\n",
    "#sns.countplot(x= loan_input[\"loan_status\"].sort_values())\n",
    "sns.countplot(x=loan_input[\"loan_status\"].sort_values(),data=loan_input,hue='loan_status',palette='coolwarm')\n",
    "plt.show()"
   ]
  },
  {
   "cell_type": "code",
   "execution_count": null,
   "id": "c5837f8f",
   "metadata": {},
   "outputs": [],
   "source": [
    "loan_input['loan_status'].value_counts()"
   ]
  },
  {
   "cell_type": "code",
   "execution_count": null,
   "id": "77e350bb",
   "metadata": {},
   "outputs": [],
   "source": [
    "# Determine the percentage of borrower who paid and defaulted\n",
    "(loan_input.loan_status.value_counts()*100)/len(loan_input)"
   ]
  },
  {
   "cell_type": "code",
   "execution_count": null,
   "id": "e5c5209e",
   "metadata": {},
   "outputs": [],
   "source": [
    "loan_input[\"loan_status\"].value_counts(1).plot.pie(autopct='%1.1f%%')\n",
    "plt.ylabel(\"\")\n",
    "plt.xlabel('')\n",
    "plt.title(\"Loan Status Analysis\")\n",
    "plt.show()"
   ]
  },
  {
   "cell_type": "markdown",
   "id": "65d1134c",
   "metadata": {},
   "source": [
    "### Observations:\n",
    "   #### Data related to loan status \"fully paid\" > \"charged off\".\n",
    "####  Defaulters: 14.59% \n",
    "#### Fully paid: 85.42%"
   ]
  },
  {
   "cell_type": "code",
   "execution_count": null,
   "id": "3b0b9a56",
   "metadata": {},
   "outputs": [],
   "source": [
    "# Loan amt: \n",
    "# Deriving statistical info of data spread \n",
    "loan_input['loan_amnt'].describe()"
   ]
  },
  {
   "cell_type": "code",
   "execution_count": null,
   "id": "17b2f020",
   "metadata": {},
   "outputs": [],
   "source": [
    "# Check distribution of three loan amount fields.\n",
    "sns.set(style=\"whitegrid\")\n",
    "plt.figure(figsize=(30, 15),facecolor='w')\n",
    "plt.subplots_adjust(left=0.1,\n",
    "                    bottom=0.1,\n",
    "                    right=0.9,\n",
    "                    top=0.9,\n",
    "                    wspace=0.4,\n",
    "                    hspace=0.4)\n",
    "plt.subplot(2, 3, 1)\n",
    "ax1= sns.histplot(loan_input['loan_amnt'], bins = 30, kde=True)\n",
    "ax1.set_title(\"Loan amount distribution Plot\", fontsize=15, color='b')\n",
    "ax1.set_xlabel('Loan amount',fontsize=14,color='b')\n",
    "plt.subplot(2, 3, 2)\n",
    "plt.title(\"Funded amount distribution Plot\", fontsize=14, color='b')\n",
    "sns.histplot(loan_input['funded_amnt'], bins = 30, kde=True)\n",
    "plt.subplot(2, 3, 3)\n",
    "plt.title(\"Funded amount Inv. - distribution Plot\", fontsize=14, color='b')\n",
    "sns.histplot(loan_input['funded_amnt_inv'], bins = 30, kde=True)\n",
    "plt.show()"
   ]
  },
  {
   "cell_type": "code",
   "execution_count": null,
   "id": "c48b4e5c",
   "metadata": {},
   "outputs": [],
   "source": [
    "sns.boxplot( y=loan_input[\"loan_amnt\"] )\n",
    "plt.ylabel('Loan Amount')\n",
    "plt.title(\"Loan Amount variation\")\n",
    "plt.show()"
   ]
  },
  {
   "cell_type": "markdown",
   "id": "b55c326e",
   "metadata": {},
   "source": [
    "### Observations:\n",
    "   #### Loan amount varies from 5000 USD to 35000 USD \n",
    "   #### Most of the loan(s) were taken between the amount of 5000 USD to 15000 USD"
   ]
  },
  {
   "cell_type": "code",
   "execution_count": null,
   "id": "92304965",
   "metadata": {},
   "outputs": [],
   "source": [
    "# Check distribution of Interest rate.\n",
    "plt.figure(figsize=(20,10),facecolor='w')\n",
    "plt.subplots_adjust(left=0.1,\n",
    "                    bottom=0.1,\n",
    "                    right=0.9,\n",
    "                    top=0.9,\n",
    "                    wspace=0.4,\n",
    "                    hspace=0.4)\n",
    "sns.set(style=\"whitegrid\")\n",
    "# subplot 1\n",
    "plt.subplot(2, 4, 1)\n",
    "ax1 = sns.histplot(loan_input['int_rate'],bins = 30, kde=True)\n",
    "ax1.set_title(\"Interest Rate distribution\", fontsize=14, color='b')\n",
    "ax1.set_xlabel('Interest Rate',fontsize=14,color='b')\n",
    "# subplot 2\n",
    "plt.subplot(2, 4, 2)\n",
    "ax2 = sns.boxplot(y=loan_input['int_rate'],palette=\"Blues\")\n",
    "ax2.set_title(\"Interest Rate Boxplot\", fontsize=14, color='b')\n",
    "ax2.set_ylabel('Interest Rate',fontsize=14,color='b')\n",
    "plt.show()"
   ]
  },
  {
   "cell_type": "markdown",
   "id": "781e95ed",
   "metadata": {},
   "source": [
    "### Observations:\n",
    "\n",
    "   #### Most of the loan(s) are in range of 10 to 15 % Interest Rates"
   ]
  },
  {
   "cell_type": "code",
   "execution_count": null,
   "id": "20784ddb",
   "metadata": {},
   "outputs": [],
   "source": [
    "plt.figure(figsize=(20,10),facecolor='w')\n",
    "plt.subplot(1,2,1)\n",
    "ax1 = sns.histplot(data=loan_input[\"dti\"])\n",
    "ax1.set_xlabel('dti',fontsize=18,color='b')\n",
    "plt.subplot(1,2,2)\n",
    "ax2=sns.boxplot(data=loan_input[\"dti\"],palette=\"Blues\")\n",
    "plt.suptitle('Debt to Income Analysis',fontsize=20, color='b')\n",
    "plt.show()"
   ]
  },
  {
   "cell_type": "markdown",
   "id": "d704728f",
   "metadata": {},
   "source": [
    "### Observations:\n",
    "#### DTI < 30 for all loans and median lies between 10-15."
   ]
  },
  {
   "cell_type": "markdown",
   "id": "2be20f49",
   "metadata": {},
   "source": [
    "## Segmented Univariate Analysis:"
   ]
  },
  {
   "cell_type": "code",
   "execution_count": null,
   "id": "e7273811",
   "metadata": {},
   "outputs": [],
   "source": [
    "# Check the loan status against home ownership type:\n",
    "sns.set(style=\"whitegrid\")\n",
    "ax = sns.countplot(x='home_ownership',hue='loan_status', data=loan_input, palette='coolwarm')\n",
    "ax.set_title('Home ownership Vs Loan status',fontsize=14,color = 'b')\n",
    "ax.set_xlabel('Home ownership',fontsize=14,color='b')\n",
    "plt.xticks(rotation=90)\n",
    "plt.show()"
   ]
  },
  {
   "cell_type": "markdown",
   "id": "0bba9c03",
   "metadata": {},
   "source": [
    "### Observations:\n",
    "#### Most Customers with home ownership type as Rent and Mortgage are the borrowers who are at having high default rate"
   ]
  },
  {
   "cell_type": "code",
   "execution_count": null,
   "id": "88972802",
   "metadata": {},
   "outputs": [],
   "source": [
    "# Check the loan status against purpose of Loan:\n",
    "sns.set(style=\"whitegrid\")\n",
    "plt.figure(figsize=(10, 5))\n",
    "ax = sns.countplot(x='purpose', hue=\"loan_status\", data=loan_input, palette ='bwr')\n",
    "ax.set_title('Loan status vs Purpose for which loans granted',fontsize=14,color = 'b')\n",
    "ax.set_ylabel('Chargedoff Proportion',fontsize=14,color = 'b')\n",
    "ax.set_xlabel('Purpose',fontsize=14,color='b')\n",
    "plt.xticks(rotation=90)\n",
    "plt.show()"
   ]
  },
  {
   "cell_type": "markdown",
   "id": "befbb269",
   "metadata": {},
   "source": [
    "### Observations:\n",
    "#### Highest number of defaulters are mostly the borrower who took loan for Debt Consolidation purpose"
   ]
  },
  {
   "cell_type": "code",
   "execution_count": null,
   "id": "01768fed",
   "metadata": {},
   "outputs": [],
   "source": [
    "# Check the loan status against Term of Loan:\n",
    "sns.set(style=\"whitegrid\")\n",
    "sns.countplot(x='term_in_months', hue=\"loan_status\", data=loan_input, palette ='coolwarm')\n",
    "plt.title('Loan status vs Loan payment term in months',fontsize=14,color = 'b')\n",
    "plt.xticks(rotation=90)\n",
    "plt.show()"
   ]
  },
  {
   "cell_type": "markdown",
   "id": "849274e4",
   "metadata": {},
   "source": [
    "###  Observations :\n",
    "#### Most of borrowers who had taken loan to repay in 60months had more % of number of applicants getting \n",
    "#### charged off as compared to applicants who had taken loan for 36 months."
   ]
  },
  {
   "cell_type": "code",
   "execution_count": null,
   "id": "f25c643e",
   "metadata": {},
   "outputs": [],
   "source": []
  },
  {
   "cell_type": "code",
   "execution_count": null,
   "id": "5f194f64",
   "metadata": {},
   "outputs": [],
   "source": []
  },
  {
   "cell_type": "markdown",
   "id": "872a15ca",
   "metadata": {},
   "source": [
    "## Bivariate Analysis:"
   ]
  },
  {
   "cell_type": "code",
   "execution_count": null,
   "id": "95b34d6f",
   "metadata": {},
   "outputs": [],
   "source": [
    "# Derived columns\n",
    "# categorise loan amounts into buckets which will help in analysis further in bivariate analysis.\n",
    "loan_input['loan_amnt_cats'] = pd.cut(loan_input['loan_amnt'], [0, 7000, 14000, 21000, 28000, 35000], labels=['0-7000', '7000-14000', '14000-21000', '21000-28000', '28000 +'])\n",
    "\n",
    "# categorise annual incomes into buckets which will help in analysis further in bivariate analysis.\n",
    "loan_input['annual_inc_cats'] = pd.cut(loan_input['annual_inc'], [0, 20000, 40000, 60000, 80000,1000000], labels=['0-20000', '20000-40000', '40000-60000', '60000-80000', '80000 +'])\n",
    "\n",
    "# categorise intrest rates into buckets which will help in analysis further in bivariate analysis.\n",
    "loan_input['int_rate_cats'] = pd.cut(loan_input['int_rate'], [0, 10, 12.5, 16, 20], labels=['0-10', '10-13', '12.5-16', '16 +'])\n",
    "\n",
    "# categorise dti into buckets for bivariate analysis.\n",
    "loan_input['dti_cats'] = pd.cut(loan_input['dti'], [0, 5, 10, 15, 20, 25], labels=['0-5', '05-10', '10-15', '15-20', '25+'])\n",
    "\n",
    "type(loan_input['loan_amnt_cats'])"
   ]
  },
  {
   "cell_type": "code",
   "execution_count": null,
   "id": "96d84810",
   "metadata": {},
   "outputs": [],
   "source": [
    "loan_input.shape"
   ]
  },
  {
   "cell_type": "code",
   "execution_count": null,
   "id": "e244215e",
   "metadata": {},
   "outputs": [],
   "source": [
    "#loan_input['loan_status'] = loan_input['loan_status'].astype('category').cat.codes"
   ]
  },
  {
   "cell_type": "code",
   "execution_count": null,
   "id": "5aca4b83",
   "metadata": {},
   "outputs": [],
   "source": [
    "#Bivariate Analysis on annual income against Chargedoff_Proportion -\n",
    "\n",
    "inc_range_vs_loan = loan_input.groupby(['annual_inc_cats', 'loan_status']).loan_status.count().unstack().fillna(0).reset_index()\n",
    "inc_range_vs_loan['Total'] = inc_range_vs_loan['Charged Off'] + inc_range_vs_loan['Fully Paid'] \n",
    "inc_range_vs_loan['Chargedoff_Proportion'] = inc_range_vs_loan['Charged Off'] / inc_range_vs_loan['Total']\n",
    "inc_range_vs_loan.sort_values('Chargedoff_Proportion', ascending=False)"
   ]
  },
  {
   "cell_type": "code",
   "execution_count": null,
   "id": "8786045b",
   "metadata": {},
   "outputs": [],
   "source": [
    "# Loan Defaulter(s) analysis with respect to Annual income and Loan status\n",
    "# Create a barplot with Annual Income against Laon defaulted\n",
    "plt.figure(figsize=(10, 5))\n",
    "sns.set(style=\"whitegrid\")\n",
    "rates = pd.qcut(loan_input['annual_inc'], 10)\n",
    "df = pd.DataFrame({ 'annual_inc' : rates, 'loan_defaulted' : loan_input['loan_defaulted']})\n",
    "\n",
    "fig, ax1 = plt.subplots(figsize=(10, 5),facecolor='w')\n",
    "ax1.set_title('Annual Income vs Loan status',fontsize=15,color = 'b')\n",
    "ax1=sns.barplot(y= 'Chargedoff_Proportion', x='annual_inc_cats', data=inc_range_vs_loan, palette ='coolwarm', errorbar=None)\n",
    "ax1.set_ylabel('Chargedoff Proportion',fontsize=14,color = 'b')\n",
    "ax1.set_xlabel('Annual Income',fontsize=14,color='b')\n",
    "plt.xticks(rotation=90)\n",
    "plt.show()"
   ]
  },
  {
   "cell_type": "code",
   "execution_count": null,
   "id": "2f0e12f9",
   "metadata": {},
   "outputs": [],
   "source": [
    "#loan_input['grade']=loan_input['grade'].astype('category').cat.codes"
   ]
  },
  {
   "cell_type": "code",
   "execution_count": null,
   "id": "42fe40ec",
   "metadata": {},
   "outputs": [],
   "source": [
    "#loan_corr_input = loan_input.select_dtypes(exclude=['string','object'])\n",
    "#loan_corr_input.info()"
   ]
  },
  {
   "cell_type": "code",
   "execution_count": null,
   "id": "79e7d0f6",
   "metadata": {},
   "outputs": [],
   "source": [
    "# Evaluating correlation:\n",
    "\n",
    "#loan_input_corr = loan_corr_input.corr()\n",
    "#type(loan_input_corr)\n",
    "\n",
    "#data.corr()['loan_status'].drop('loan_status').sort_values()"
   ]
  },
  {
   "cell_type": "code",
   "execution_count": null,
   "id": "5455c5eb",
   "metadata": {},
   "outputs": [],
   "source": [
    "#sns.set(font_scale=1.0)\n",
    "#sns.heatmap(loan_input_corr,annot=True,cmap=\"Greens\")\n",
    "#plt.show()"
   ]
  },
  {
   "cell_type": "code",
   "execution_count": null,
   "id": "2776a06b",
   "metadata": {},
   "outputs": [],
   "source": [
    "#sns.set(font_scale=1.0)\n",
    "#dataplot = sns.heatmap(loan_input_corr, cmap=\"Greens\", annot=True, fmt='.2f')\n",
    "\n",
    "#sns.clustermap(loan_input_corr,annot=True,figsize=(12, 8),cmap=\"Greens\", fmt='.2f')\n",
    "  \n",
    "# displaying correlation view \n",
    "#plt.figure(figsize=[50,30])\n",
    "#plt.show()\n"
   ]
  },
  {
   "cell_type": "code",
   "execution_count": null,
   "id": "2cb812f8",
   "metadata": {},
   "outputs": [],
   "source": [
    "#loan_input_corr.style.format(precision=2)\n",
    "#loan_input_corr.style.background_gradient(cmap='Greens').set_precision"
   ]
  },
  {
   "cell_type": "code",
   "execution_count": null,
   "id": "77415ec2",
   "metadata": {},
   "outputs": [],
   "source": [
    "# Loan Defaulter(s) analysis with respect to year of loan granted and verification status.\n",
    "# Plot a bar plot with loan_defaulted against loan_funded_year\n",
    "sns.set(style=\"whitegrid\")\n",
    "plt.figure(figsize=(10, 5))\n",
    "sns.barplot(data=loan_input, y='loan_defaulted', x='year',hue='verification_status', palette ='coolwarm', errorbar=None)\n",
    "plt.title('Loan defaulter(s) count for each Year with verification status',fontsize=15,color = 'b')\n",
    "plt.xlabel('Loan Funded Year',fontsize=15,color = 'b')\n",
    "plt.ylabel('Loan Defaulted',fontsize=15,color = 'b')\n",
    "plt.show()"
   ]
  },
  {
   "cell_type": "markdown",
   "id": "51518a7f",
   "metadata": {},
   "source": [
    "###  Observations :\n",
    "#### Increasing number of defaulters over the year 2008.\n",
    "#### Number of defaulters have increased during 2008 - may be due to Global economy recession."
   ]
  },
  {
   "cell_type": "code",
   "execution_count": null,
   "id": "015592b6",
   "metadata": {},
   "outputs": [],
   "source": [
    "# Loan Defaulter(s) analysis with respect to individual state(s) level.\n",
    "plt.figure(figsize=(15,15))\n",
    "sns.set(style=\"whitegrid\")\n",
    "dataset = loan_input[loan_input['loan_status']=='Charged Off'].groupby('addr_state')['loan_status'].count().reset_index()\n",
    "sns.barplot(y='addr_state', x='loan_status', data=dataset, palette='coolwarm')\n",
    "plt.title('Loan defaulter(s) count at each State level',fontsize=15,color = 'b')\n",
    "plt.xlabel('Count of defaulters by State',fontsize=15,color = 'b')\n",
    "plt.ylabel('State',fontsize=15,color = 'b')\n",
    "plt.show()"
   ]
  },
  {
   "cell_type": "markdown",
   "id": "7dd02c0d",
   "metadata": {},
   "source": [
    "###  Observations :\n",
    "#### Califorinia (CA) , Florida (FL) and New York (NY) are top 3 states with more Loan defaulters count."
   ]
  },
  {
   "cell_type": "code",
   "execution_count": null,
   "id": "64a99e7e",
   "metadata": {},
   "outputs": [],
   "source": [
    "# Bivariate Analysis on purpose of Loan against Chargedoff_Proportion.\n",
    "\n",
    "purpose_vs_loan = loan_input.groupby(['purpose', 'loan_status']).loan_status.count().unstack().fillna(0).reset_index()\n",
    "purpose_vs_loan['Total'] = purpose_vs_loan['Charged Off'] + purpose_vs_loan['Fully Paid'] \n",
    "purpose_vs_loan['Chargedoff_Proportion'] = purpose_vs_loan['Charged Off'] / purpose_vs_loan['Total']\n",
    "purpose_vs_loan.sort_values('Chargedoff_Proportion', ascending=False)"
   ]
  },
  {
   "cell_type": "code",
   "execution_count": null,
   "id": "361cb640",
   "metadata": {},
   "outputs": [],
   "source": [
    "# Loan defaulter analysis with respect to Purpose of Loans\n",
    "fig, ax1 = plt.subplots(figsize=(14, 8),facecolor='w')\n",
    "sns.set(style=\"whitegrid\")\n",
    "ax1.set_title('Purpose of Loans vs Chargedoff Proportion',fontsize=15,color = 'b')\n",
    "ax1=sns.barplot(y='purpose', x='Chargedoff_Proportion', data=purpose_vs_loan, palette='coolwarm')\n",
    "ax1.set_ylabel('Purpose of Loans',fontsize=14,color='b')\n",
    "ax1.set_xlabel('Chargedoff Proportion',fontsize=14,color = 'b')\n",
    "plt.show()"
   ]
  },
  {
   "cell_type": "code",
   "execution_count": null,
   "id": "1b94b0ec",
   "metadata": {},
   "outputs": [],
   "source": [
    "# Puprose of loan vs Loan amount analysis at Box plot level\n",
    "\n",
    "plt.figure(figsize=(12,8),facecolor='w')\n",
    "ax = sns.barplot(y='purpose', x='loan_amnt', data =loan_input,palette='coolwarm')\n",
    "ax.set_title('Purpose of Loan vs Loan Amount',fontsize=15,color='b')\n",
    "ax.set_ylabel('Purpose of Loan',fontsize=14,color = 'b')\n",
    "ax.set_xlabel('Loan Amount',fontsize=14,color = 'b')\n",
    "plt.show()"
   ]
  },
  {
   "cell_type": "markdown",
   "id": "1df8d405",
   "metadata": {},
   "source": [
    "###  Observations :\n",
    "#### Small Business applicants have high chances of getting charged off as their revenue generation may be low."
   ]
  },
  {
   "cell_type": "code",
   "execution_count": null,
   "id": "323a342c",
   "metadata": {},
   "outputs": [],
   "source": [
    "# Borrower's Grade Vs Chargedoff_Proportion analysis:\n",
    "grade_vs_loan = loan_input.groupby(['grade', 'loan_status']).loan_status.count().unstack().fillna(0).reset_index()\n",
    "grade_vs_loan['Total'] = grade_vs_loan['Charged Off'] + grade_vs_loan['Fully Paid'] \n",
    "grade_vs_loan['Chargedoff_Proportion'] = grade_vs_loan['Charged Off'] / grade_vs_loan['Total']\n",
    "grade_vs_loan.sort_values('Chargedoff_Proportion', ascending=False)\n"
   ]
  },
  {
   "cell_type": "code",
   "execution_count": null,
   "id": "cc2757df",
   "metadata": {},
   "outputs": [],
   "source": [
    "Loan_Temp = pd.pivot_table(data=loan_input, index=loan_input[\"grade\"], columns=loan_input[\"loan_status\"],values=\"loan_status\", aggfunc='count')\n",
    "Loan_Temp.plot(kind=\"bar\", stacked=\"True\", figsize=[8,6])\n",
    "plt.ylabel(\"Count of Loan Status\")\n",
    "plt.xlabel(\"Grade\")\n",
    "plt.title(\"Grade Vs Loan Status\") \n",
    "plt.show()"
   ]
  },
  {
   "cell_type": "code",
   "execution_count": null,
   "id": "328428fa",
   "metadata": {},
   "outputs": [],
   "source": [
    "# Borrower's Grade Vs Chargedoff_Proportion analysis:\n",
    "fig, ax1 = plt.subplots(figsize=(14, 8),facecolor='w')\n",
    "ax1.set_title('Grades vs Chargedoff Proportion',fontsize=15,color='b')\n",
    "ax1=sns.barplot(x='grade', y='Chargedoff_Proportion', data=grade_vs_loan, palette='coolwarm')\n",
    "ax1.set_xlabel('Grades',fontsize=14,color='b')\n",
    "ax1.set_ylabel('Chargedoff Proportion',fontsize=14,color ='b')\n",
    "plt.show()"
   ]
  },
  {
   "cell_type": "markdown",
   "id": "55757818",
   "metadata": {},
   "source": [
    "### Observations:\n",
    "#### Grade \"A\" has very less chances of charged off.\n",
    "#### Grade \"F\" and \"G\" have very high chances of charged off.\n",
    "#### Chances of charged off is increasing with grade moving from \"A\" towards \"G\""
   ]
  },
  {
   "cell_type": "code",
   "execution_count": null,
   "id": "2802b639",
   "metadata": {},
   "outputs": [],
   "source": [
    "# Annual income Vs Grade for every loan status.\n",
    "plt.figure(figsize=(10,8), dpi=80, facecolor='w', edgecolor='k')\n",
    "ax=sns.barplot(x='grade', y='annual_inc', hue=\"loan_status\", data=loan_input, palette='coolwarm', estimator=np.mean,order='ABCDEFG')\n",
    "ax.set_title('Grades vs Annual income',fontsize=15,color='b')\n",
    "ax.set_ylabel('Annual income',fontsize=14,color = 'b')\n",
    "ax.set_xlabel('Grades',fontsize=14,color = 'b')\n",
    "plt.show()"
   ]
  },
  {
   "cell_type": "markdown",
   "id": "65ec3590",
   "metadata": {},
   "source": [
    "### Observations:\n",
    "#### 'Charged off' is happening at Grade F than compared to other Grades"
   ]
  },
  {
   "cell_type": "code",
   "execution_count": null,
   "id": "c1605aa9",
   "metadata": {},
   "outputs": [],
   "source": [
    "# sub grades Vs Chargedoff_Proportion\n",
    "\n",
    "grade_vs_loan = loan_input.groupby(['sub_grade', 'loan_status']).loan_status.count().unstack().fillna(0).reset_index()\n",
    "grade_vs_loan['Total'] = grade_vs_loan['Charged Off'] + grade_vs_loan['Fully Paid'] \n",
    "grade_vs_loan['Chargedoff_Proportion'] = grade_vs_loan['Charged Off'] / grade_vs_loan['Total']\n",
    "grade_vs_loan.sort_values('Chargedoff_Proportion', ascending=False)\n",
    "\n",
    "# Observations:\n",
    "# sub Grades of \"A\" has very less chances of charged off.\n",
    "# sub Grades of \"F\" and \"G\" have very high chances of charged off.\n",
    "# proportion of charged off is increasing with sub grades moving from sub grades of \"A\" towards sub grades of \"G\""
   ]
  },
  {
   "cell_type": "code",
   "execution_count": null,
   "id": "01055474",
   "metadata": {},
   "outputs": [],
   "source": [
    "fig, ax1 = plt.subplots(figsize=(14, 8),facecolor='w')\n",
    "ax1.set_title('Sub Grades vs Chargedoff Proportion',fontsize=15,color='b')\n",
    "ax1=sns.barplot(x='sub_grade', y='Chargedoff_Proportion', data=grade_vs_loan, palette='coolwarm')\n",
    "ax1.set_xlabel('Sub Grades',fontsize=14,color='b')\n",
    "ax1.set_ylabel('Chargedoff Proportion',fontsize=14,color = 'b')\n",
    "plt.show()"
   ]
  },
  {
   "cell_type": "markdown",
   "id": "e8fd706c",
   "metadata": {},
   "source": [
    "### Observations:\n",
    "#### Sub Grades of \"A\" has very less chances of charged off.\n",
    "#### Sub Grades of \"F\" and \"G\" have very high chances of charged off."
   ]
  },
  {
   "cell_type": "code",
   "execution_count": null,
   "id": "5b85a0ea",
   "metadata": {},
   "outputs": [],
   "source": [
    "# Employment length Vs Chargedoff_Proportion\n",
    "\n",
    "emplen_vs_loan = loan_input.groupby(['emp_length', 'loan_status']).loan_status.count().unstack().fillna(0).reset_index()\n",
    "emplen_vs_loan['Total'] = emplen_vs_loan['Charged Off'] + emplen_vs_loan['Fully Paid'] \n",
    "emplen_vs_loan['Chargedoff_Proportion'] = emplen_vs_loan['Charged Off'] / emplen_vs_loan['Total']\n",
    "emplen_vs_loan.sort_values('Chargedoff_Proportion', ascending=False)\n",
    "\n",
    "# Observations:\n",
    "# Those who are not working or have less than 1 year of work experience have high chances of getting charged off.\n",
    "# It makes sense as with less or no experience they don't have source of income to repay loan.\n",
    "# Rest of the applicants have more or less same chnaces of getting charged off."
   ]
  },
  {
   "cell_type": "code",
   "execution_count": null,
   "id": "cb680f6a",
   "metadata": {},
   "outputs": [],
   "source": [
    "fig, ax1 = plt.subplots(figsize=(12, 8),facecolor='w')\n",
    "ax1.set_title('Employment Length vs Chargedoff Proportion',fontsize=15,color='b')\n",
    "ax1=sns.barplot(x='emp_length', y='Chargedoff_Proportion', data=emplen_vs_loan, palette='coolwarm')\n",
    "ax1.set_xlabel('Employment Length',fontsize=14,color='b')\n",
    "ax1.set_ylabel('Chargedoff Proportion',fontsize=14,color = 'b')\n",
    "plt.show()\n"
   ]
  },
  {
   "cell_type": "markdown",
   "id": "fce4d46e",
   "metadata": {},
   "source": [
    "### Observations:\n",
    "####  < 1 year of work experience have high chances of getting charged off since their income will be less to repay loan."
   ]
  },
  {
   "cell_type": "code",
   "execution_count": null,
   "id": "e3cc3616",
   "metadata": {},
   "outputs": [],
   "source": [
    "# Interest Rate Vs Payment Term in months for every loan status.\n",
    "plt.figure(figsize=(10,8), dpi=80, facecolor='w', edgecolor='k')\n",
    "ax = sns.barplot(y='int_rate', x='term_in_months', data =loan_input,palette='coolwarm')\n",
    "ax.set_title('Loan Payment Term vs Interest Rate',fontsize=15,color='b')\n",
    "ax.set_ylabel('Interest Rate (%)',fontsize=14,color = 'b')\n",
    "ax.set_xlabel('Term of loan in months',fontsize=14,color = 'b')\n",
    "plt.show()"
   ]
  },
  {
   "cell_type": "markdown",
   "id": "1cea4280",
   "metadata": {},
   "source": [
    "### Observations:\n",
    "##### Interest rate is higher for 60 months loan term.\n",
    "#### Loans issued for longer term had higher interest rates for repayement"
   ]
  },
  {
   "cell_type": "code",
   "execution_count": null,
   "id": "0ab207a6",
   "metadata": {},
   "outputs": [],
   "source": [
    "plt.figure(figsize=(10,8), dpi=80, facecolor='w', edgecolor='k')\n",
    "ax = sns.barplot(y='int_rate', x='loan_amnt_cats', data =loan_input,palette='coolwarm')\n",
    "ax.set_title('Loan Amount vs Interest Rate',fontsize=15,color='b')\n",
    "ax.set_ylabel('Interest Rate (%)',fontsize=14,color = 'b')\n",
    "ax.set_xlabel('Loan Amount Category',fontsize=14,color = 'b')\n",
    "plt.show()"
   ]
  },
  {
   "cell_type": "markdown",
   "id": "e4ada534",
   "metadata": {},
   "source": [
    "### Observations:\n",
    "#### Interest rate is increasing with loan amount increase."
   ]
  },
  {
   "cell_type": "code",
   "execution_count": null,
   "id": "e5f247ce",
   "metadata": {},
   "outputs": [],
   "source": [
    "plt.figure(figsize=(10,8), dpi=80, facecolor='w', edgecolor='k')\n",
    "ax = sns.barplot(y='int_rate', x='dti_cats', data =loan_input,palette='coolwarm')\n",
    "ax.set_title('dti vs Interest Rate',fontsize=15,color='b')\n",
    "ax.set_ylabel('Interest Rate (%)',fontsize=14,color = 'b')\n",
    "ax.set_xlabel('dti Category',fontsize=14,color = 'b')\n",
    "plt.show()"
   ]
  },
  {
   "cell_type": "markdown",
   "id": "deafca7b",
   "metadata": {},
   "source": [
    "### Observations:\n",
    "#### Borrower with Low \"dti\" may get a lower Interest rate.\n",
    "#### Slight Increase in Interest rate with increase in \"dti\"."
   ]
  },
  {
   "cell_type": "code",
   "execution_count": null,
   "id": "25a55230",
   "metadata": {},
   "outputs": [],
   "source": [
    "plt.figure(figsize=(10,8), dpi=80, facecolor='w', edgecolor='k')\n",
    "ax = sns.barplot(y='int_rate', x='year', data =loan_input,palette='coolwarm')\n",
    "ax.set_title('Year vs Interest Rate',fontsize=15,color='b')\n",
    "ax.set_ylabel('Interest Rate (%)',fontsize=14,color = 'b')\n",
    "ax.set_xlabel('Year',fontsize=14,color = 'b')\n",
    "plt.show()"
   ]
  },
  {
   "cell_type": "markdown",
   "id": "58aecec1",
   "metadata": {},
   "source": [
    "### Observations:\n",
    "#### Year on Year Interest rate is increasing slowly."
   ]
  },
  {
   "cell_type": "code",
   "execution_count": null,
   "id": "d4c66a8c",
   "metadata": {},
   "outputs": [],
   "source": [
    "#Bivariate Analysis : Purpose Vs Interest Rate\n",
    "plt.figure(figsize=(14,8),facecolor='w')\n",
    "ax = sns.boxplot(x='int_rate', y='purpose', data =loan_input,palette='coolwarm')\n",
    "ax.set_title('Purpose vs Interest Rate',fontsize=15,color='b')\n",
    "ax.set_xlabel('Interest Rate(%)',fontsize=14,color = 'b')\n",
    "ax.set_ylabel('Purpose of Loan',fontsize=14,color = 'b')\n",
    "plt.show()"
   ]
  },
  {
   "cell_type": "code",
   "execution_count": null,
   "id": "9b662304",
   "metadata": {},
   "outputs": [],
   "source": [
    "#Bivariate Analysis : Purpose Vs Interest Rate\n",
    "plt.figure(figsize=(10,8), dpi=80, facecolor='w', edgecolor='k')\n",
    "ax = sns.barplot(x='int_rate', y='purpose', data =loan_input,palette='coolwarm')\n",
    "ax.set_title('Purpose of Loan vs Interest Rate',fontsize=15,color='b')\n",
    "ax.set_xlabel('Interest Rate (%)',fontsize=14,color = 'b')\n",
    "ax.set_ylabel('Purpose',fontsize=14,color = 'b')\n",
    "plt.xticks(rotation=90)\n",
    "plt.show()"
   ]
  },
  {
   "cell_type": "markdown",
   "id": "ef248e0a",
   "metadata": {},
   "source": [
    "### Observations:\n",
    "#### Interest rate is highest for small business purpose.\n",
    "#### Debt consolidation falls under 2nd where borrowers had to pay more interest rate."
   ]
  },
  {
   "cell_type": "code",
   "execution_count": null,
   "id": "fccc6772",
   "metadata": {},
   "outputs": [],
   "source": [
    "fig, ax1 = plt.subplots(figsize=(10, 8),facecolor='w')\n",
    "ax1.set_title('Interest Rate vs Chargedoff Proportion',fontsize=15,color='b')\n",
    "ax1=sns.barplot(x='int_rate_cats', y='Chargedoff_Proportion', data=interest_vs_loan, palette='coolwarm')\n",
    "ax1.set_xlabel('Interest Rate(%)',fontsize=14,color='b')\n",
    "ax1.set_ylabel('Chargedoff Proportion',fontsize=14,color = 'b')\n",
    "plt.show()"
   ]
  },
  {
   "cell_type": "markdown",
   "id": "c3402497",
   "metadata": {},
   "source": [
    "### Observations:\n",
    "#### Interest rates are starting from minimin 5 %.\n",
    "#### Interest rate less than 10% has very less chances of charged off\n",
    "#### Interest rate more than 16% has good chnaces of charged off as compared to other category intrest rates.\n",
    "#### Charged off proportion is increasing with higher interest rates"
   ]
  },
  {
   "cell_type": "code",
   "execution_count": null,
   "id": "5faf07a3",
   "metadata": {},
   "outputs": [],
   "source": [
    "# Bivariate Analysis - Grade vs Interest Rate\n",
    "plt.figure(figsize=(14,8),facecolor='w')\n",
    "ax = sns.barplot(y='int_rate', x='grade', data =loan_input,palette='coolwarm',order = 'ABCDEFG')\n",
    "ax.set_title('Grade vs Interest Rate',fontsize=15,color='b')\n",
    "ax.set_ylabel('Interest Rate',fontsize=14,color = 'b')\n",
    "ax.set_xlabel('Grade',fontsize=14,color = 'b')\n",
    "plt.show()"
   ]
  },
  {
   "cell_type": "markdown",
   "id": "479ee1b4",
   "metadata": {},
   "source": [
    "### Observations:\n",
    "#### A-grade is a top grade for a lender to assign to a borrower.\n",
    "#### Higher borrower's credit grade is offered with lower interest rate on a loan.\n",
    "#### Interest rate is increasing with grades moving from A to F."
   ]
  },
  {
   "cell_type": "code",
   "execution_count": null,
   "id": "45076e23",
   "metadata": {},
   "outputs": [],
   "source": [
    "# Bivariate Analysis - Derrogatory Public Record vs Charged off proportion\n",
    "bankruptcies_vs_loan = loan_input.groupby(['pub_rec', 'loan_status']).loan_status.count().unstack().fillna(0).reset_index()\n",
    "bankruptcies_vs_loan['Total']=bankruptcies_vs_loan['Charged Off']+bankruptcies_vs_loan['Fully Paid'] \n",
    "bankruptcies_vs_loan['Chargedoff_Proportion'] = bankruptcies_vs_loan['Charged Off'] / bankruptcies_vs_loan['Total']\n",
    "bankruptcies_vs_loan.sort_values('Chargedoff_Proportion', ascending=False)"
   ]
  },
  {
   "cell_type": "code",
   "execution_count": null,
   "id": "d1a48641",
   "metadata": {},
   "outputs": [],
   "source": [
    "# Bivariate Analysis - Derrogatory Public Record vs Charged off proportion\n",
    "sns.set(style=\"whitegrid\")\n",
    "fig, ax1 = plt.subplots(figsize=(10, 8),facecolor='w')\n",
    "ax1.set_title('Derogatory Public Record vs Chargedoff Proportion',fontsize=15,color='b')\n",
    "ax1=sns.barplot(x='pub_rec', y='Chargedoff_Proportion', data=bankruptcies_vs_loan, palette='coolwarm')\n",
    "ax1.set_xlabel('Derogatory Public Record',fontsize=14,color='b')\n",
    "ax1.set_ylabel('Chargedoff Proportion',fontsize=14,color = 'b')\n",
    "plt.show()"
   ]
  },
  {
   "cell_type": "markdown",
   "id": "51ebbb42",
   "metadata": {},
   "source": [
    "### Observations:\n",
    "#### pub_rec value 1 or 2 have charged off chances higher than who have no Derogatory Public Record.\n",
    "#### pub_rec count 3-4 has less numbers so cannot reach on any conclusions."
   ]
  },
  {
   "cell_type": "code",
   "execution_count": null,
   "id": "7187c524",
   "metadata": {},
   "outputs": [],
   "source": []
  }
 ],
 "metadata": {
  "kernelspec": {
   "display_name": "Python 3 (ipykernel)",
   "language": "python",
   "name": "python3"
  },
  "language_info": {
   "codemirror_mode": {
    "name": "ipython",
    "version": 3
   },
   "file_extension": ".py",
   "mimetype": "text/x-python",
   "name": "python",
   "nbconvert_exporter": "python",
   "pygments_lexer": "ipython3",
   "version": "3.9.12"
  }
 },
 "nbformat": 4,
 "nbformat_minor": 5
}
